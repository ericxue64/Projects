{
 "cells": [
  {
   "cell_type": "markdown",
   "id": "87440268",
   "metadata": {},
   "source": [
    "# Crunchbase VC Data Analysis"
   ]
  },
  {
   "cell_type": "markdown",
   "id": "e93deb99",
   "metadata": {},
   "source": [
    "## Import Libraries"
   ]
  },
  {
   "cell_type": "code",
   "execution_count": 3,
   "id": "42f84b35",
   "metadata": {},
   "outputs": [],
   "source": [
    "import pandas as pd\n",
    "import seaborn as sns\n",
    "import matplotlib.pyplot as plt\n",
    "import numpy as np\n",
    "%matplotlib inline\n",
    "sns.set_style('darkgrid')\n",
    "sns.set_palette('Blues_r')"
   ]
  },
  {
   "cell_type": "markdown",
   "id": "a83ce8ae",
   "metadata": {},
   "source": [
    "## Get the Data / Basic Exploration "
   ]
  },
  {
   "cell_type": "code",
   "execution_count": 4,
   "id": "658b8728",
   "metadata": {},
   "outputs": [],
   "source": [
    "df = pd.read_excel('Dataset.xlsx',index_col=None)"
   ]
  },
  {
   "cell_type": "code",
   "execution_count": 5,
   "id": "27a24e3d",
   "metadata": {
    "scrolled": true
   },
   "outputs": [
    {
     "data": {
      "text/html": [
       "<div>\n",
       "<style scoped>\n",
       "    .dataframe tbody tr th:only-of-type {\n",
       "        vertical-align: middle;\n",
       "    }\n",
       "\n",
       "    .dataframe tbody tr th {\n",
       "        vertical-align: top;\n",
       "    }\n",
       "\n",
       "    .dataframe thead th {\n",
       "        text-align: right;\n",
       "    }\n",
       "</style>\n",
       "<table border=\"1\" class=\"dataframe\">\n",
       "  <thead>\n",
       "    <tr style=\"text-align: right;\">\n",
       "      <th></th>\n",
       "      <th>Organization Name</th>\n",
       "      <th>Organization Name URL</th>\n",
       "      <th>Headquarters Location</th>\n",
       "      <th>Industries</th>\n",
       "      <th>Last Funding Type</th>\n",
       "      <th>Last Funding Date</th>\n",
       "      <th>Last Funding Amount</th>\n",
       "      <th>Last Funding Amount Currency</th>\n",
       "      <th>Last Funding Amount Currency (in USD)</th>\n",
       "      <th>Number of Employees</th>\n",
       "      <th>...</th>\n",
       "      <th>Price Currency</th>\n",
       "      <th>Company Type</th>\n",
       "      <th>Founded Date</th>\n",
       "      <th>Twitter</th>\n",
       "      <th>Facebook</th>\n",
       "      <th>LinkedIn</th>\n",
       "      <th>Funding Status</th>\n",
       "      <th>Acquisition Type</th>\n",
       "      <th>Announced Date</th>\n",
       "      <th>Estimated Revenue Range</th>\n",
       "    </tr>\n",
       "  </thead>\n",
       "  <tbody>\n",
       "    <tr>\n",
       "      <th>0</th>\n",
       "      <td>216</td>\n",
       "      <td>https://www.crunchbase.com/organization/216</td>\n",
       "      <td>The Hague, Zuid-Holland, The Netherlands</td>\n",
       "      <td>B2B, Consulting, Financial Services, Informati...</td>\n",
       "      <td>NaN</td>\n",
       "      <td>NaT</td>\n",
       "      <td>NaN</td>\n",
       "      <td>NaN</td>\n",
       "      <td>NaN</td>\n",
       "      <td>51-100</td>\n",
       "      <td>...</td>\n",
       "      <td>NaN</td>\n",
       "      <td>For Profit</td>\n",
       "      <td>2015-01-01</td>\n",
       "      <td>https://twitter.com/216mkb</td>\n",
       "      <td>https://www.facebook.com/pg/216MKB</td>\n",
       "      <td>https://www.linkedin.com/company/9380675/</td>\n",
       "      <td>M&amp;A</td>\n",
       "      <td>Acquisition</td>\n",
       "      <td>2015-04-01</td>\n",
       "      <td>$10M to $50M</td>\n",
       "    </tr>\n",
       "    <tr>\n",
       "      <th>1</th>\n",
       "      <td>605</td>\n",
       "      <td>https://www.crunchbase.com/organization/605</td>\n",
       "      <td>New York, New York, United States</td>\n",
       "      <td>Advertising Platforms, Analytics, Artificial I...</td>\n",
       "      <td>NaN</td>\n",
       "      <td>NaT</td>\n",
       "      <td>NaN</td>\n",
       "      <td>NaN</td>\n",
       "      <td>NaN</td>\n",
       "      <td>51-100</td>\n",
       "      <td>...</td>\n",
       "      <td>NaN</td>\n",
       "      <td>For Profit</td>\n",
       "      <td>2016-11-01</td>\n",
       "      <td>https://www.twitter.com/605data</td>\n",
       "      <td>https://www.facebook.com/605data</td>\n",
       "      <td>https://www.linkedin.com/company/605data</td>\n",
       "      <td>NaN</td>\n",
       "      <td>NaN</td>\n",
       "      <td>NaT</td>\n",
       "      <td>$1M to $10M</td>\n",
       "    </tr>\n",
       "    <tr>\n",
       "      <th>2</th>\n",
       "      <td>1620</td>\n",
       "      <td>https://www.crunchbase.com/organization/1620-w...</td>\n",
       "      <td>Newburyport, Massachusetts, United States</td>\n",
       "      <td>Fashion, Lifestyle</td>\n",
       "      <td>NaN</td>\n",
       "      <td>NaT</td>\n",
       "      <td>NaN</td>\n",
       "      <td>NaN</td>\n",
       "      <td>NaN</td>\n",
       "      <td>2020-01-10 00:00:00</td>\n",
       "      <td>...</td>\n",
       "      <td>NaN</td>\n",
       "      <td>For Profit</td>\n",
       "      <td>2016-08-24</td>\n",
       "      <td>NaN</td>\n",
       "      <td>NaN</td>\n",
       "      <td>NaN</td>\n",
       "      <td>NaN</td>\n",
       "      <td>NaN</td>\n",
       "      <td>NaT</td>\n",
       "      <td>Less than $1M</td>\n",
       "    </tr>\n",
       "    <tr>\n",
       "      <th>3</th>\n",
       "      <td>&amp;ME</td>\n",
       "      <td>https://www.crunchbase.com/organization/merhak...</td>\n",
       "      <td>Bangalore, Karnataka, India</td>\n",
       "      <td>Food and Beverage, Food Processing, Nutrition</td>\n",
       "      <td>Venture - Series Unknown</td>\n",
       "      <td>2019-03-12</td>\n",
       "      <td>NaN</td>\n",
       "      <td>NaN</td>\n",
       "      <td>NaN</td>\n",
       "      <td>1950-11-01 00:00:00</td>\n",
       "      <td>...</td>\n",
       "      <td>NaN</td>\n",
       "      <td>For Profit</td>\n",
       "      <td>2017-09-27</td>\n",
       "      <td>https://twitter.com/andmeindia</td>\n",
       "      <td>https://www.facebook.com/andme.in/</td>\n",
       "      <td>https://www.linkedin.com/company/27206722/</td>\n",
       "      <td>NaN</td>\n",
       "      <td>NaN</td>\n",
       "      <td>NaT</td>\n",
       "      <td>$1M to $10M</td>\n",
       "    </tr>\n",
       "    <tr>\n",
       "      <th>4</th>\n",
       "      <td>&amp;shift</td>\n",
       "      <td>https://www.crunchbase.com/organization/shift-10</td>\n",
       "      <td>NaN</td>\n",
       "      <td>Information Technology, Internet, Social Media...</td>\n",
       "      <td>NaN</td>\n",
       "      <td>NaT</td>\n",
       "      <td>NaN</td>\n",
       "      <td>NaN</td>\n",
       "      <td>NaN</td>\n",
       "      <td>2020-01-10 00:00:00</td>\n",
       "      <td>...</td>\n",
       "      <td>NaN</td>\n",
       "      <td>NaN</td>\n",
       "      <td>2015-05-01</td>\n",
       "      <td>https://www.twitter.com/andshift_fr</td>\n",
       "      <td>https://www.facebook.com/andshift</td>\n",
       "      <td>NaN</td>\n",
       "      <td>NaN</td>\n",
       "      <td>NaN</td>\n",
       "      <td>NaT</td>\n",
       "      <td>Less than $1M</td>\n",
       "    </tr>\n",
       "  </tbody>\n",
       "</table>\n",
       "<p>5 rows × 32 columns</p>\n",
       "</div>"
      ],
      "text/plain": [
       "  Organization Name                              Organization Name URL  \\\n",
       "0               216        https://www.crunchbase.com/organization/216   \n",
       "1               605        https://www.crunchbase.com/organization/605   \n",
       "2              1620  https://www.crunchbase.com/organization/1620-w...   \n",
       "3               &ME  https://www.crunchbase.com/organization/merhak...   \n",
       "4            &shift   https://www.crunchbase.com/organization/shift-10   \n",
       "\n",
       "                       Headquarters Location  \\\n",
       "0   The Hague, Zuid-Holland, The Netherlands   \n",
       "1          New York, New York, United States   \n",
       "2  Newburyport, Massachusetts, United States   \n",
       "3                Bangalore, Karnataka, India   \n",
       "4                                        NaN   \n",
       "\n",
       "                                          Industries  \\\n",
       "0  B2B, Consulting, Financial Services, Informati...   \n",
       "1  Advertising Platforms, Analytics, Artificial I...   \n",
       "2                                 Fashion, Lifestyle   \n",
       "3      Food and Beverage, Food Processing, Nutrition   \n",
       "4  Information Technology, Internet, Social Media...   \n",
       "\n",
       "          Last Funding Type Last Funding Date  Last Funding Amount  \\\n",
       "0                       NaN               NaT                  NaN   \n",
       "1                       NaN               NaT                  NaN   \n",
       "2                       NaN               NaT                  NaN   \n",
       "3  Venture - Series Unknown        2019-03-12                  NaN   \n",
       "4                       NaN               NaT                  NaN   \n",
       "\n",
       "  Last Funding Amount Currency  Last Funding Amount Currency (in USD)  \\\n",
       "0                          NaN                                    NaN   \n",
       "1                          NaN                                    NaN   \n",
       "2                          NaN                                    NaN   \n",
       "3                          NaN                                    NaN   \n",
       "4                          NaN                                    NaN   \n",
       "\n",
       "   Number of Employees  ...  Price Currency Company Type  Founded Date  \\\n",
       "0               51-100  ...             NaN   For Profit    2015-01-01   \n",
       "1               51-100  ...             NaN   For Profit    2016-11-01   \n",
       "2  2020-01-10 00:00:00  ...             NaN   For Profit    2016-08-24   \n",
       "3  1950-11-01 00:00:00  ...             NaN   For Profit    2017-09-27   \n",
       "4  2020-01-10 00:00:00  ...             NaN          NaN    2015-05-01   \n",
       "\n",
       "                               Twitter                            Facebook  \\\n",
       "0           https://twitter.com/216mkb  https://www.facebook.com/pg/216MKB   \n",
       "1      https://www.twitter.com/605data    https://www.facebook.com/605data   \n",
       "2                                  NaN                                 NaN   \n",
       "3       https://twitter.com/andmeindia  https://www.facebook.com/andme.in/   \n",
       "4  https://www.twitter.com/andshift_fr   https://www.facebook.com/andshift   \n",
       "\n",
       "                                     LinkedIn Funding Status  \\\n",
       "0   https://www.linkedin.com/company/9380675/            M&A   \n",
       "1    https://www.linkedin.com/company/605data            NaN   \n",
       "2                                         NaN            NaN   \n",
       "3  https://www.linkedin.com/company/27206722/            NaN   \n",
       "4                                         NaN            NaN   \n",
       "\n",
       "   Acquisition Type  Announced Date  Estimated Revenue Range  \n",
       "0       Acquisition      2015-04-01             $10M to $50M  \n",
       "1               NaN             NaT              $1M to $10M  \n",
       "2               NaN             NaT            Less than $1M  \n",
       "3               NaN             NaT              $1M to $10M  \n",
       "4               NaN             NaT            Less than $1M  \n",
       "\n",
       "[5 rows x 32 columns]"
      ]
     },
     "execution_count": 5,
     "metadata": {},
     "output_type": "execute_result"
    }
   ],
   "source": [
    "df.head()"
   ]
  },
  {
   "cell_type": "code",
   "execution_count": 6,
   "id": "4223425f",
   "metadata": {},
   "outputs": [],
   "source": [
    "df.drop(['Twitter', 'Facebook', 'LinkedIn', 'Organization Name URL', 'Headquarters Location', 'Last Funding Amount', 'Last Funding Amount Currency', 'Total Funding Amount', 'Total Funding Amount Currency', 'Acquired by', 'Acquired by URL', 'Acquisition Price', 'Price Currency', 'Announced Date', 'Unnamed: 20'], axis=1, inplace=True)\n"
   ]
  },
  {
   "cell_type": "code",
   "execution_count": 7,
   "id": "55b65490",
   "metadata": {},
   "outputs": [
    {
     "data": {
      "text/html": [
       "<div>\n",
       "<style scoped>\n",
       "    .dataframe tbody tr th:only-of-type {\n",
       "        vertical-align: middle;\n",
       "    }\n",
       "\n",
       "    .dataframe tbody tr th {\n",
       "        vertical-align: top;\n",
       "    }\n",
       "\n",
       "    .dataframe thead th {\n",
       "        text-align: right;\n",
       "    }\n",
       "</style>\n",
       "<table border=\"1\" class=\"dataframe\">\n",
       "  <thead>\n",
       "    <tr style=\"text-align: right;\">\n",
       "      <th></th>\n",
       "      <th>Organization Name</th>\n",
       "      <th>Industries</th>\n",
       "      <th>Last Funding Type</th>\n",
       "      <th>Last Funding Date</th>\n",
       "      <th>Last Funding Amount Currency (in USD)</th>\n",
       "      <th>Number of Employees</th>\n",
       "      <th>Total Funding Amount Currency (in USD)</th>\n",
       "      <th>Number of Funding Rounds</th>\n",
       "      <th>Acquisition Status</th>\n",
       "      <th>Number of Acquisitions</th>\n",
       "      <th>Acquisition Price Currency (in USD)</th>\n",
       "      <th>Number of Founders</th>\n",
       "      <th>Company Type</th>\n",
       "      <th>Founded Date</th>\n",
       "      <th>Funding Status</th>\n",
       "      <th>Acquisition Type</th>\n",
       "      <th>Estimated Revenue Range</th>\n",
       "    </tr>\n",
       "  </thead>\n",
       "  <tbody>\n",
       "    <tr>\n",
       "      <th>0</th>\n",
       "      <td>216</td>\n",
       "      <td>B2B, Consulting, Financial Services, Informati...</td>\n",
       "      <td>NaN</td>\n",
       "      <td>NaT</td>\n",
       "      <td>NaN</td>\n",
       "      <td>51-100</td>\n",
       "      <td>NaN</td>\n",
       "      <td>NaN</td>\n",
       "      <td>Was Acquired</td>\n",
       "      <td>NaN</td>\n",
       "      <td>NaN</td>\n",
       "      <td>NaN</td>\n",
       "      <td>For Profit</td>\n",
       "      <td>2015-01-01</td>\n",
       "      <td>M&amp;A</td>\n",
       "      <td>Acquisition</td>\n",
       "      <td>$10M to $50M</td>\n",
       "    </tr>\n",
       "    <tr>\n",
       "      <th>1</th>\n",
       "      <td>605</td>\n",
       "      <td>Advertising Platforms, Analytics, Artificial I...</td>\n",
       "      <td>NaN</td>\n",
       "      <td>NaT</td>\n",
       "      <td>NaN</td>\n",
       "      <td>51-100</td>\n",
       "      <td>NaN</td>\n",
       "      <td>NaN</td>\n",
       "      <td>NaN</td>\n",
       "      <td>NaN</td>\n",
       "      <td>NaN</td>\n",
       "      <td>2.0</td>\n",
       "      <td>For Profit</td>\n",
       "      <td>2016-11-01</td>\n",
       "      <td>NaN</td>\n",
       "      <td>NaN</td>\n",
       "      <td>$1M to $10M</td>\n",
       "    </tr>\n",
       "    <tr>\n",
       "      <th>2</th>\n",
       "      <td>1620</td>\n",
       "      <td>Fashion, Lifestyle</td>\n",
       "      <td>NaN</td>\n",
       "      <td>NaT</td>\n",
       "      <td>NaN</td>\n",
       "      <td>2020-01-10 00:00:00</td>\n",
       "      <td>NaN</td>\n",
       "      <td>NaN</td>\n",
       "      <td>NaN</td>\n",
       "      <td>NaN</td>\n",
       "      <td>NaN</td>\n",
       "      <td>2.0</td>\n",
       "      <td>For Profit</td>\n",
       "      <td>2016-08-24</td>\n",
       "      <td>NaN</td>\n",
       "      <td>NaN</td>\n",
       "      <td>Less than $1M</td>\n",
       "    </tr>\n",
       "    <tr>\n",
       "      <th>3</th>\n",
       "      <td>&amp;ME</td>\n",
       "      <td>Food and Beverage, Food Processing, Nutrition</td>\n",
       "      <td>Venture - Series Unknown</td>\n",
       "      <td>2019-03-12</td>\n",
       "      <td>NaN</td>\n",
       "      <td>1950-11-01 00:00:00</td>\n",
       "      <td>NaN</td>\n",
       "      <td>2.0</td>\n",
       "      <td>NaN</td>\n",
       "      <td>NaN</td>\n",
       "      <td>NaN</td>\n",
       "      <td>1.0</td>\n",
       "      <td>For Profit</td>\n",
       "      <td>2017-09-27</td>\n",
       "      <td>NaN</td>\n",
       "      <td>NaN</td>\n",
       "      <td>$1M to $10M</td>\n",
       "    </tr>\n",
       "    <tr>\n",
       "      <th>4</th>\n",
       "      <td>&amp;shift</td>\n",
       "      <td>Information Technology, Internet, Social Media...</td>\n",
       "      <td>NaN</td>\n",
       "      <td>NaT</td>\n",
       "      <td>NaN</td>\n",
       "      <td>2020-01-10 00:00:00</td>\n",
       "      <td>NaN</td>\n",
       "      <td>NaN</td>\n",
       "      <td>NaN</td>\n",
       "      <td>NaN</td>\n",
       "      <td>NaN</td>\n",
       "      <td>NaN</td>\n",
       "      <td>NaN</td>\n",
       "      <td>2015-05-01</td>\n",
       "      <td>NaN</td>\n",
       "      <td>NaN</td>\n",
       "      <td>Less than $1M</td>\n",
       "    </tr>\n",
       "  </tbody>\n",
       "</table>\n",
       "</div>"
      ],
      "text/plain": [
       "  Organization Name                                         Industries  \\\n",
       "0               216  B2B, Consulting, Financial Services, Informati...   \n",
       "1               605  Advertising Platforms, Analytics, Artificial I...   \n",
       "2              1620                                 Fashion, Lifestyle   \n",
       "3               &ME      Food and Beverage, Food Processing, Nutrition   \n",
       "4            &shift  Information Technology, Internet, Social Media...   \n",
       "\n",
       "          Last Funding Type Last Funding Date  \\\n",
       "0                       NaN               NaT   \n",
       "1                       NaN               NaT   \n",
       "2                       NaN               NaT   \n",
       "3  Venture - Series Unknown        2019-03-12   \n",
       "4                       NaN               NaT   \n",
       "\n",
       "   Last Funding Amount Currency (in USD)  Number of Employees  \\\n",
       "0                                    NaN               51-100   \n",
       "1                                    NaN               51-100   \n",
       "2                                    NaN  2020-01-10 00:00:00   \n",
       "3                                    NaN  1950-11-01 00:00:00   \n",
       "4                                    NaN  2020-01-10 00:00:00   \n",
       "\n",
       "   Total Funding Amount Currency (in USD)  Number of Funding Rounds  \\\n",
       "0                                     NaN                       NaN   \n",
       "1                                     NaN                       NaN   \n",
       "2                                     NaN                       NaN   \n",
       "3                                     NaN                       2.0   \n",
       "4                                     NaN                       NaN   \n",
       "\n",
       "  Acquisition Status  Number of Acquisitions  \\\n",
       "0       Was Acquired                     NaN   \n",
       "1                NaN                     NaN   \n",
       "2                NaN                     NaN   \n",
       "3                NaN                     NaN   \n",
       "4                NaN                     NaN   \n",
       "\n",
       "   Acquisition Price Currency (in USD)  Number of Founders Company Type  \\\n",
       "0                                  NaN                 NaN   For Profit   \n",
       "1                                  NaN                 2.0   For Profit   \n",
       "2                                  NaN                 2.0   For Profit   \n",
       "3                                  NaN                 1.0   For Profit   \n",
       "4                                  NaN                 NaN          NaN   \n",
       "\n",
       "  Founded Date Funding Status Acquisition Type Estimated Revenue Range  \n",
       "0   2015-01-01            M&A      Acquisition            $10M to $50M  \n",
       "1   2016-11-01            NaN              NaN             $1M to $10M  \n",
       "2   2016-08-24            NaN              NaN           Less than $1M  \n",
       "3   2017-09-27            NaN              NaN             $1M to $10M  \n",
       "4   2015-05-01            NaN              NaN           Less than $1M  "
      ]
     },
     "execution_count": 7,
     "metadata": {},
     "output_type": "execute_result"
    }
   ],
   "source": [
    "df.head()"
   ]
  },
  {
   "cell_type": "code",
   "execution_count": 8,
   "id": "0b535a28",
   "metadata": {},
   "outputs": [],
   "source": [
    "df['Organization Name'] = df['Organization Name'].str.strip()"
   ]
  },
  {
   "cell_type": "code",
   "execution_count": 9,
   "id": "b2cd486c",
   "metadata": {
    "scrolled": true
   },
   "outputs": [
    {
     "name": "stderr",
     "output_type": "stream",
     "text": [
      "<ipython-input-9-3f58c95d9882>:1: FutureWarning: The default value of regex will change from True to False in a future version.\n",
      "  df['Organization Name'] = df['Organization Name'].str.replace(r\"\\(.*\\)\",\"\")\n"
     ]
    }
   ],
   "source": [
    "df['Organization Name'] = df['Organization Name'].str.replace(r\"\\(.*\\)\",\"\")"
   ]
  },
  {
   "cell_type": "code",
   "execution_count": 10,
   "id": "87cad6af",
   "metadata": {},
   "outputs": [],
   "source": [
    "df.rename(columns = {'Last Funding Amount Currency (in USD)':'Last Funding Amount', 'Total Funding Amount Currency (in USD)':'Total Funding Amount', 'Acquisition Price Currency (in USD)':'Acquisition Price'}, inplace = True)"
   ]
  },
  {
   "cell_type": "code",
   "execution_count": 11,
   "id": "7d4cbfaa",
   "metadata": {
    "scrolled": false
   },
   "outputs": [
    {
     "data": {
      "text/html": [
       "<div>\n",
       "<style scoped>\n",
       "    .dataframe tbody tr th:only-of-type {\n",
       "        vertical-align: middle;\n",
       "    }\n",
       "\n",
       "    .dataframe tbody tr th {\n",
       "        vertical-align: top;\n",
       "    }\n",
       "\n",
       "    .dataframe thead th {\n",
       "        text-align: right;\n",
       "    }\n",
       "</style>\n",
       "<table border=\"1\" class=\"dataframe\">\n",
       "  <thead>\n",
       "    <tr style=\"text-align: right;\">\n",
       "      <th></th>\n",
       "      <th>Organization Name</th>\n",
       "      <th>Industries</th>\n",
       "      <th>Last Funding Type</th>\n",
       "      <th>Last Funding Date</th>\n",
       "      <th>Last Funding Amount</th>\n",
       "      <th>Number of Employees</th>\n",
       "      <th>Total Funding Amount</th>\n",
       "      <th>Number of Funding Rounds</th>\n",
       "      <th>Acquisition Status</th>\n",
       "      <th>Number of Acquisitions</th>\n",
       "      <th>Acquisition Price</th>\n",
       "      <th>Number of Founders</th>\n",
       "      <th>Company Type</th>\n",
       "      <th>Founded Date</th>\n",
       "      <th>Funding Status</th>\n",
       "      <th>Acquisition Type</th>\n",
       "      <th>Estimated Revenue Range</th>\n",
       "    </tr>\n",
       "  </thead>\n",
       "  <tbody>\n",
       "    <tr>\n",
       "      <th>0</th>\n",
       "      <td>NaN</td>\n",
       "      <td>B2B, Consulting, Financial Services, Informati...</td>\n",
       "      <td>NaN</td>\n",
       "      <td>NaT</td>\n",
       "      <td>NaN</td>\n",
       "      <td>51-100</td>\n",
       "      <td>NaN</td>\n",
       "      <td>NaN</td>\n",
       "      <td>Was Acquired</td>\n",
       "      <td>NaN</td>\n",
       "      <td>NaN</td>\n",
       "      <td>NaN</td>\n",
       "      <td>For Profit</td>\n",
       "      <td>2015-01-01</td>\n",
       "      <td>M&amp;A</td>\n",
       "      <td>Acquisition</td>\n",
       "      <td>$10M to $50M</td>\n",
       "    </tr>\n",
       "    <tr>\n",
       "      <th>1</th>\n",
       "      <td>NaN</td>\n",
       "      <td>Advertising Platforms, Analytics, Artificial I...</td>\n",
       "      <td>NaN</td>\n",
       "      <td>NaT</td>\n",
       "      <td>NaN</td>\n",
       "      <td>51-100</td>\n",
       "      <td>NaN</td>\n",
       "      <td>NaN</td>\n",
       "      <td>NaN</td>\n",
       "      <td>NaN</td>\n",
       "      <td>NaN</td>\n",
       "      <td>2.0</td>\n",
       "      <td>For Profit</td>\n",
       "      <td>2016-11-01</td>\n",
       "      <td>NaN</td>\n",
       "      <td>NaN</td>\n",
       "      <td>$1M to $10M</td>\n",
       "    </tr>\n",
       "    <tr>\n",
       "      <th>2</th>\n",
       "      <td>NaN</td>\n",
       "      <td>Fashion, Lifestyle</td>\n",
       "      <td>NaN</td>\n",
       "      <td>NaT</td>\n",
       "      <td>NaN</td>\n",
       "      <td>2020-01-10 00:00:00</td>\n",
       "      <td>NaN</td>\n",
       "      <td>NaN</td>\n",
       "      <td>NaN</td>\n",
       "      <td>NaN</td>\n",
       "      <td>NaN</td>\n",
       "      <td>2.0</td>\n",
       "      <td>For Profit</td>\n",
       "      <td>2016-08-24</td>\n",
       "      <td>NaN</td>\n",
       "      <td>NaN</td>\n",
       "      <td>Less than $1M</td>\n",
       "    </tr>\n",
       "    <tr>\n",
       "      <th>3</th>\n",
       "      <td>&amp;ME</td>\n",
       "      <td>Food and Beverage, Food Processing, Nutrition</td>\n",
       "      <td>Venture - Series Unknown</td>\n",
       "      <td>2019-03-12</td>\n",
       "      <td>NaN</td>\n",
       "      <td>1950-11-01 00:00:00</td>\n",
       "      <td>NaN</td>\n",
       "      <td>2.0</td>\n",
       "      <td>NaN</td>\n",
       "      <td>NaN</td>\n",
       "      <td>NaN</td>\n",
       "      <td>1.0</td>\n",
       "      <td>For Profit</td>\n",
       "      <td>2017-09-27</td>\n",
       "      <td>NaN</td>\n",
       "      <td>NaN</td>\n",
       "      <td>$1M to $10M</td>\n",
       "    </tr>\n",
       "    <tr>\n",
       "      <th>4</th>\n",
       "      <td>&amp;shift</td>\n",
       "      <td>Information Technology, Internet, Social Media...</td>\n",
       "      <td>NaN</td>\n",
       "      <td>NaT</td>\n",
       "      <td>NaN</td>\n",
       "      <td>2020-01-10 00:00:00</td>\n",
       "      <td>NaN</td>\n",
       "      <td>NaN</td>\n",
       "      <td>NaN</td>\n",
       "      <td>NaN</td>\n",
       "      <td>NaN</td>\n",
       "      <td>NaN</td>\n",
       "      <td>NaN</td>\n",
       "      <td>2015-05-01</td>\n",
       "      <td>NaN</td>\n",
       "      <td>NaN</td>\n",
       "      <td>Less than $1M</td>\n",
       "    </tr>\n",
       "  </tbody>\n",
       "</table>\n",
       "</div>"
      ],
      "text/plain": [
       "  Organization Name                                         Industries  \\\n",
       "0               NaN  B2B, Consulting, Financial Services, Informati...   \n",
       "1               NaN  Advertising Platforms, Analytics, Artificial I...   \n",
       "2               NaN                                 Fashion, Lifestyle   \n",
       "3               &ME      Food and Beverage, Food Processing, Nutrition   \n",
       "4            &shift  Information Technology, Internet, Social Media...   \n",
       "\n",
       "          Last Funding Type Last Funding Date  Last Funding Amount  \\\n",
       "0                       NaN               NaT                  NaN   \n",
       "1                       NaN               NaT                  NaN   \n",
       "2                       NaN               NaT                  NaN   \n",
       "3  Venture - Series Unknown        2019-03-12                  NaN   \n",
       "4                       NaN               NaT                  NaN   \n",
       "\n",
       "   Number of Employees  Total Funding Amount  Number of Funding Rounds  \\\n",
       "0               51-100                   NaN                       NaN   \n",
       "1               51-100                   NaN                       NaN   \n",
       "2  2020-01-10 00:00:00                   NaN                       NaN   \n",
       "3  1950-11-01 00:00:00                   NaN                       2.0   \n",
       "4  2020-01-10 00:00:00                   NaN                       NaN   \n",
       "\n",
       "  Acquisition Status  Number of Acquisitions  Acquisition Price  \\\n",
       "0       Was Acquired                     NaN                NaN   \n",
       "1                NaN                     NaN                NaN   \n",
       "2                NaN                     NaN                NaN   \n",
       "3                NaN                     NaN                NaN   \n",
       "4                NaN                     NaN                NaN   \n",
       "\n",
       "   Number of Founders Company Type Founded Date Funding Status  \\\n",
       "0                 NaN   For Profit   2015-01-01            M&A   \n",
       "1                 2.0   For Profit   2016-11-01            NaN   \n",
       "2                 2.0   For Profit   2016-08-24            NaN   \n",
       "3                 1.0   For Profit   2017-09-27            NaN   \n",
       "4                 NaN          NaN   2015-05-01            NaN   \n",
       "\n",
       "  Acquisition Type Estimated Revenue Range  \n",
       "0      Acquisition            $10M to $50M  \n",
       "1              NaN             $1M to $10M  \n",
       "2              NaN           Less than $1M  \n",
       "3              NaN             $1M to $10M  \n",
       "4              NaN           Less than $1M  "
      ]
     },
     "execution_count": 11,
     "metadata": {},
     "output_type": "execute_result"
    }
   ],
   "source": [
    "df.head()"
   ]
  },
  {
   "cell_type": "code",
   "execution_count": 12,
   "id": "b2aa7a51",
   "metadata": {
    "scrolled": true
   },
   "outputs": [
    {
     "name": "stdout",
     "output_type": "stream",
     "text": [
      "<class 'pandas.core.frame.DataFrame'>\n",
      "RangeIndex: 21528 entries, 0 to 21527\n",
      "Data columns (total 17 columns):\n",
      " #   Column                    Non-Null Count  Dtype         \n",
      "---  ------                    --------------  -----         \n",
      " 0   Organization Name         21524 non-null  object        \n",
      " 1   Industries                21360 non-null  object        \n",
      " 2   Last Funding Type         12473 non-null  object        \n",
      " 3   Last Funding Date         12473 non-null  datetime64[ns]\n",
      " 4   Last Funding Amount       9924 non-null   float64       \n",
      " 5   Number of Employees       19980 non-null  object        \n",
      " 6   Total Funding Amount      11038 non-null  float64       \n",
      " 7   Number of Funding Rounds  12473 non-null  float64       \n",
      " 8   Acquisition Status        1066 non-null   object        \n",
      " 9   Number of Acquisitions    731 non-null    float64       \n",
      " 10  Acquisition Price         53 non-null     float64       \n",
      " 11  Number of Founders        16119 non-null  float64       \n",
      " 12  Company Type              16465 non-null  object        \n",
      " 13  Founded Date              21528 non-null  datetime64[ns]\n",
      " 14  Funding Status            9939 non-null   object        \n",
      " 15  Acquisition Type          354 non-null    object        \n",
      " 16  Estimated Revenue Range   21528 non-null  object        \n",
      "dtypes: datetime64[ns](2), float64(6), object(9)\n",
      "memory usage: 2.8+ MB\n"
     ]
    }
   ],
   "source": [
    "df.info()"
   ]
  },
  {
   "cell_type": "code",
   "execution_count": 13,
   "id": "de4be1bc",
   "metadata": {},
   "outputs": [
    {
     "data": {
      "text/html": [
       "<div>\n",
       "<style scoped>\n",
       "    .dataframe tbody tr th:only-of-type {\n",
       "        vertical-align: middle;\n",
       "    }\n",
       "\n",
       "    .dataframe tbody tr th {\n",
       "        vertical-align: top;\n",
       "    }\n",
       "\n",
       "    .dataframe thead th {\n",
       "        text-align: right;\n",
       "    }\n",
       "</style>\n",
       "<table border=\"1\" class=\"dataframe\">\n",
       "  <thead>\n",
       "    <tr style=\"text-align: right;\">\n",
       "      <th></th>\n",
       "      <th>Last Funding Amount</th>\n",
       "      <th>Total Funding Amount</th>\n",
       "      <th>Number of Funding Rounds</th>\n",
       "      <th>Number of Acquisitions</th>\n",
       "      <th>Acquisition Price</th>\n",
       "      <th>Number of Founders</th>\n",
       "    </tr>\n",
       "  </thead>\n",
       "  <tbody>\n",
       "    <tr>\n",
       "      <th>count</th>\n",
       "      <td>9.924000e+03</td>\n",
       "      <td>1.103800e+04</td>\n",
       "      <td>12473.000000</td>\n",
       "      <td>731.000000</td>\n",
       "      <td>5.300000e+01</td>\n",
       "      <td>16119.000000</td>\n",
       "    </tr>\n",
       "    <tr>\n",
       "      <th>mean</th>\n",
       "      <td>1.218798e+07</td>\n",
       "      <td>1.967612e+07</td>\n",
       "      <td>2.309549</td>\n",
       "      <td>1.454172</td>\n",
       "      <td>3.949920e+08</td>\n",
       "      <td>1.997829</td>\n",
       "    </tr>\n",
       "    <tr>\n",
       "      <th>std</th>\n",
       "      <td>4.751057e+07</td>\n",
       "      <td>9.479053e+07</td>\n",
       "      <td>1.479869</td>\n",
       "      <td>1.213630</td>\n",
       "      <td>7.533893e+08</td>\n",
       "      <td>1.050792</td>\n",
       "    </tr>\n",
       "    <tr>\n",
       "      <th>min</th>\n",
       "      <td>1.000000e+03</td>\n",
       "      <td>1.000000e+03</td>\n",
       "      <td>1.000000</td>\n",
       "      <td>1.000000</td>\n",
       "      <td>1.440760e+06</td>\n",
       "      <td>0.000000</td>\n",
       "    </tr>\n",
       "    <tr>\n",
       "      <th>25%</th>\n",
       "      <td>6.874405e+05</td>\n",
       "      <td>9.700000e+05</td>\n",
       "      <td>1.000000</td>\n",
       "      <td>1.000000</td>\n",
       "      <td>3.006000e+07</td>\n",
       "      <td>1.000000</td>\n",
       "    </tr>\n",
       "    <tr>\n",
       "      <th>50%</th>\n",
       "      <td>2.509196e+06</td>\n",
       "      <td>3.307082e+06</td>\n",
       "      <td>2.000000</td>\n",
       "      <td>1.000000</td>\n",
       "      <td>1.700000e+08</td>\n",
       "      <td>2.000000</td>\n",
       "    </tr>\n",
       "    <tr>\n",
       "      <th>75%</th>\n",
       "      <td>9.106738e+06</td>\n",
       "      <td>1.200000e+07</td>\n",
       "      <td>3.000000</td>\n",
       "      <td>1.000000</td>\n",
       "      <td>4.500000e+08</td>\n",
       "      <td>3.000000</td>\n",
       "    </tr>\n",
       "    <tr>\n",
       "      <th>max</th>\n",
       "      <td>2.600000e+09</td>\n",
       "      <td>4.100000e+09</td>\n",
       "      <td>14.000000</td>\n",
       "      <td>17.000000</td>\n",
       "      <td>4.900000e+09</td>\n",
       "      <td>10.000000</td>\n",
       "    </tr>\n",
       "  </tbody>\n",
       "</table>\n",
       "</div>"
      ],
      "text/plain": [
       "       Last Funding Amount  Total Funding Amount  Number of Funding Rounds  \\\n",
       "count         9.924000e+03          1.103800e+04              12473.000000   \n",
       "mean          1.218798e+07          1.967612e+07                  2.309549   \n",
       "std           4.751057e+07          9.479053e+07                  1.479869   \n",
       "min           1.000000e+03          1.000000e+03                  1.000000   \n",
       "25%           6.874405e+05          9.700000e+05                  1.000000   \n",
       "50%           2.509196e+06          3.307082e+06                  2.000000   \n",
       "75%           9.106738e+06          1.200000e+07                  3.000000   \n",
       "max           2.600000e+09          4.100000e+09                 14.000000   \n",
       "\n",
       "       Number of Acquisitions  Acquisition Price  Number of Founders  \n",
       "count              731.000000       5.300000e+01        16119.000000  \n",
       "mean                 1.454172       3.949920e+08            1.997829  \n",
       "std                  1.213630       7.533893e+08            1.050792  \n",
       "min                  1.000000       1.440760e+06            0.000000  \n",
       "25%                  1.000000       3.006000e+07            1.000000  \n",
       "50%                  1.000000       1.700000e+08            2.000000  \n",
       "75%                  1.000000       4.500000e+08            3.000000  \n",
       "max                 17.000000       4.900000e+09           10.000000  "
      ]
     },
     "execution_count": 13,
     "metadata": {},
     "output_type": "execute_result"
    }
   ],
   "source": [
    "df.describe()"
   ]
  },
  {
   "cell_type": "code",
   "execution_count": 14,
   "id": "9e076c8c",
   "metadata": {
    "scrolled": true
   },
   "outputs": [
    {
     "data": {
      "text/plain": [
       "21360"
      ]
     },
     "execution_count": 14,
     "metadata": {},
     "output_type": "execute_result"
    }
   ],
   "source": [
    "df['Industries'].count()"
   ]
  },
  {
   "cell_type": "code",
   "execution_count": 15,
   "id": "846e526a",
   "metadata": {
    "scrolled": false
   },
   "outputs": [
    {
     "data": {
      "text/plain": [
       "<AxesSubplot:xlabel='count', ylabel='Last Funding Type'>"
      ]
     },
     "execution_count": 15,
     "metadata": {},
     "output_type": "execute_result"
    },
    {
     "data": {
      "image/png": "[encoded data removed]",
      "text/plain": [
       "<Figure size 576x576 with 1 Axes>"
      ]
     },
     "metadata": {},
     "output_type": "display_data"
    }
   ],
   "source": [
    "plt.figure(figsize=(8,8))\n",
    "sns.countplot(data=df, y='Last Funding Type', order = df['Last Funding Type'].value_counts().index)"
   ]
  },
  {
   "cell_type": "code",
   "execution_count": 16,
   "id": "d00c424f",
   "metadata": {},
   "outputs": [
    {
     "data": {
      "text/plain": [
       "<AxesSubplot:xlabel='count', ylabel='Number of Funding Rounds'>"
      ]
     },
     "execution_count": 16,
     "metadata": {},
     "output_type": "execute_result"
    },
    {
     "data": {
      "image/png": "[encoded data removed]",
      "text/plain": [
       "<Figure size 576x288 with 1 Axes>"
      ]
     },
     "metadata": {},
     "output_type": "display_data"
    }
   ],
   "source": [
    "plt.figure(figsize=(8,4))\n",
    "sns.countplot(data=df, y='Number of Funding Rounds', order = df['Number of Funding Rounds'].value_counts().index)"
   ]
  },
  {
   "cell_type": "code",
   "execution_count": 17,
   "id": "157b6aba",
   "metadata": {
    "scrolled": true
   },
   "outputs": [
    {
     "data": {
      "text/plain": [
       "(-100.0, 200000000.0)"
      ]
     },
     "execution_count": 17,
     "metadata": {},
     "output_type": "execute_result"
    },
    {
     "data": {
      "image/png": "[encoded data removed]",
      "text/plain": [
       "<Figure size 432x288 with 1 Axes>"
      ]
     },
     "metadata": {},
     "output_type": "display_data"
    }
   ],
   "source": [
    "sns.histplot(data=df, x='Total Funding Amount')\n",
    "plt.xlim(-100, 2e+08)"
   ]
  },
  {
   "cell_type": "markdown",
   "id": "cdd881cc",
   "metadata": {},
   "source": [
    "## Data Cleanning"
   ]
  },
  {
   "cell_type": "markdown",
   "id": "1fc2ead1",
   "metadata": {},
   "source": [
    "**Drop Useless Columns**"
   ]
  },
  {
   "cell_type": "code",
   "execution_count": 18,
   "id": "a766e07a",
   "metadata": {
    "scrolled": false
   },
   "outputs": [
    {
     "data": {
      "text/plain": [
       "<AxesSubplot:>"
      ]
     },
     "execution_count": 18,
     "metadata": {},
     "output_type": "execute_result"
    },
    {
     "data": {
      "image/png": "[encoded data removed]",
      "text/plain": [
       "<Figure size 576x576 with 1 Axes>"
      ]
     },
     "metadata": {},
     "output_type": "display_data"
    }
   ],
   "source": [
    "plt.figure(figsize = (8,8))\n",
    "sns.heatmap(df.isnull(),yticklabels=False,cbar=False,cmap='viridis')"
   ]
  },
  {
   "cell_type": "code",
   "execution_count": 19,
   "id": "0dcf721c",
   "metadata": {
    "scrolled": true
   },
   "outputs": [],
   "source": [
    "df.drop(['Acquisition Status', 'Number of Acquisitions', 'Acquisition Price', 'Funding Status', 'Acquisition Type'], axis =1, inplace = True)"
   ]
  },
  {
   "cell_type": "code",
   "execution_count": 20,
   "id": "43f49d4a",
   "metadata": {
    "scrolled": true
   },
   "outputs": [],
   "source": [
    "df = df[df['Total Funding Amount'].notnull()]"
   ]
  },
  {
   "cell_type": "code",
   "execution_count": 21,
   "id": "c45dc9df",
   "metadata": {},
   "outputs": [],
   "source": [
    "df = df[df['Number of Funding Rounds']<7]"
   ]
  },
  {
   "cell_type": "code",
   "execution_count": 22,
   "id": "8ca95c22",
   "metadata": {
    "scrolled": false
   },
   "outputs": [
    {
     "data": {
      "text/plain": [
       "<AxesSubplot:>"
      ]
     },
     "execution_count": 22,
     "metadata": {},
     "output_type": "execute_result"
    },
    {
     "data": {
      "image/png": "[encoded data removed]",
      "text/plain": [
       "<Figure size 576x576 with 1 Axes>"
      ]
     },
     "metadata": {},
     "output_type": "display_data"
    }
   ],
   "source": [
    "plt.figure(figsize = (8,8))\n",
    "sns.heatmap(df.isnull(),yticklabels=False,cbar=False,cmap='viridis')"
   ]
  },
  {
   "cell_type": "markdown",
   "id": "9699fcb5",
   "metadata": {},
   "source": [
    "**Mean Imputation by Num of Funding Rounds**"
   ]
  },
  {
   "cell_type": "code",
   "execution_count": 23,
   "id": "29c49022",
   "metadata": {
    "scrolled": true
   },
   "outputs": [
    {
     "data": {
      "text/plain": [
       "[8886154.252207506,\n",
       " 11214002.573518654,\n",
       " 12351399.398230089,\n",
       " 16203785.12813102,\n",
       " 20855695.498929337,\n",
       " 22326589.78773585]"
      ]
     },
     "execution_count": 23,
     "metadata": {},
     "output_type": "execute_result"
    }
   ],
   "source": [
    "mean_list = []\n",
    "for i in range(1,7):\n",
    "    mean_list.append(df[df['Number of Funding Rounds']==i]['Last Funding Amount'].mean())\n",
    "mean_list"
   ]
  },
  {
   "cell_type": "code",
   "execution_count": 24,
   "id": "c6220ec8",
   "metadata": {},
   "outputs": [],
   "source": [
    "def impute(cols):\n",
    "    NFR = cols[0]\n",
    "    LFA = cols[1]\n",
    "    \n",
    "    if pd.isnull(LFA):\n",
    "\n",
    "        if NFR == 1:\n",
    "            return mean_list[0]\n",
    "\n",
    "        elif NFR == 2:\n",
    "            return mean_list[1]\n",
    "\n",
    "        elif NFR == 3:\n",
    "            return mean_list[2]\n",
    "        \n",
    "        elif NFR == 4:\n",
    "            return mean_list[3]\n",
    "        \n",
    "        elif NFR == 5:\n",
    "            return mean_list[4]\n",
    "        \n",
    "        else:\n",
    "            return mean_list[5]\n",
    "        \n",
    "    else:\n",
    "        return LFA"
   ]
  },
  {
   "cell_type": "code",
   "execution_count": 25,
   "id": "f0280cb9",
   "metadata": {},
   "outputs": [],
   "source": [
    "df['Last Funding Amount'] = df[['Number of Funding Rounds', 'Last Funding Amount']].apply(impute, axis=1)"
   ]
  },
  {
   "cell_type": "code",
   "execution_count": 26,
   "id": "39f1f8d6",
   "metadata": {
    "scrolled": false
   },
   "outputs": [
    {
     "data": {
      "text/plain": [
       "<AxesSubplot:>"
      ]
     },
     "execution_count": 26,
     "metadata": {},
     "output_type": "execute_result"
    },
    {
     "data": {
      "image/png": "[encoded data removed]",
      "text/plain": [
       "<Figure size 576x576 with 1 Axes>"
      ]
     },
     "metadata": {},
     "output_type": "display_data"
    }
   ],
   "source": [
    "plt.figure(figsize = (8,8))\n",
    "sns.heatmap(df.isnull(),yticklabels=False,cbar=False,cmap='viridis')"
   ]
  },
  {
   "cell_type": "markdown",
   "id": "cecddf02",
   "metadata": {},
   "source": [
    "## Correlation Analysis"
   ]
  },
  {
   "cell_type": "code",
   "execution_count": 27,
   "id": "704c196b",
   "metadata": {},
   "outputs": [],
   "source": [
    "dfn = df[['Last Funding Amount', 'Total Funding Amount', 'Estimated Revenue Range', 'Number of Founders', 'Number of Funding Rounds']]"
   ]
  },
  {
   "cell_type": "code",
   "execution_count": 28,
   "id": "652d969b",
   "metadata": {
    "scrolled": false
   },
   "outputs": [
    {
     "data": {
      "text/plain": [
       "<matplotlib.legend.Legend at 0x27a2e4e4cd0>"
      ]
     },
     "execution_count": 28,
     "metadata": {},
     "output_type": "execute_result"
    },
    {
     "data": {
      "image/png": "[encoded data removed]",
      "text/plain": [
       "<Figure size 432x432 with 3 Axes>"
      ]
     },
     "metadata": {},
     "output_type": "display_data"
    }
   ],
   "source": [
    "import scipy.stats as stats\n",
    "graph = sns.jointplot(x='Last Funding Amount', y='Total Funding Amount', data = df, kind='reg')\n",
    "r, p = stats.pearsonr(df['Last Funding Amount'], df['Total Funding Amount'])\n",
    "phantom, = graph.ax_joint.plot([], [], linestyle=\"\", alpha=0)\n",
    "graph.ax_joint.legend([phantom],['r={:f}, p={:f}'.format(r,p)])"
   ]
  },
  {
   "cell_type": "code",
   "execution_count": 29,
   "id": "7f20003c",
   "metadata": {
    "scrolled": true
   },
   "outputs": [
    {
     "data": {
      "text/plain": [
       "<AxesSubplot:xlabel='Number of Founders', ylabel='Total Funding Amount'>"
      ]
     },
     "execution_count": 29,
     "metadata": {},
     "output_type": "execute_result"
    },
    {
     "data": {
      "image/png": "[encoded data removed]",
      "text/plain": [
       "<Figure size 432x288 with 1 Axes>"
      ]
     },
     "metadata": {},
     "output_type": "display_data"
    }
   ],
   "source": [
    "sns.boxplot(x='Number of Founders', y='Total Funding Amount', data=df)"
   ]
  },
  {
   "cell_type": "code",
   "execution_count": 30,
   "id": "db8e135c",
   "metadata": {
    "scrolled": true
   },
   "outputs": [
    {
     "name": "stdout",
     "output_type": "stream",
     "text": [
      "0 288000000000000.0\n",
      "1 9336981233350456.0\n",
      "2 7518856362306503.0\n",
      "3 2905352453790172.0\n",
      "4 2514014790236207.5\n",
      "5 5362577197766831.0\n",
      "6 3.3125439056366864e+16\n",
      "7 4475171809940351.0\n",
      "8 728487406855964.2\n",
      "9 380880000000000.0\n",
      "10 nan\n"
     ]
    }
   ],
   "source": [
    "for i in range(0,11):\n",
    "    print(i, (df[df['Number of Founders']==i]['Total Funding Amount'].var()))"
   ]
  },
  {
   "cell_type": "code",
   "execution_count": 35,
   "id": "b75f4216",
   "metadata": {},
   "outputs": [
    {
     "name": "stdout",
     "output_type": "stream",
     "text": [
      "F:  0.9144616488576198 p:  0.5030360757614798\n"
     ]
    }
   ],
   "source": [
    "F, p = stats.f_oneway(df[df['Number of Founders']==1]['Total Funding Amount'],\n",
    "                      df[df['Number of Founders']==2]['Total Funding Amount'],\n",
    "                      df[df['Number of Founders']==3]['Total Funding Amount'],\n",
    "                     df[df['Number of Founders']==4]['Total Funding Amount'],\n",
    "                     df[df['Number of Founders']==5]['Total Funding Amount'],\n",
    "                     df[df['Number of Founders']==6]['Total Funding Amount'],\n",
    "                      df[df['Number of Founders']==7]['Total Funding Amount'],\n",
    "                      df[df['Number of Founders']==8]['Total Funding Amount'],\n",
    "                      df[df['Number of Founders']==9]['Total Funding Amount'],\n",
    "                     )\n",
    "print(\"F: \", F, \"p: \", p)\n",
    "#Number of Founders don't have correlation with Total Funding Amount\n",
    "#The assumption of Anova test doesn't really met"
   ]
  },
  {
   "cell_type": "markdown",
   "id": "9761c5cf",
   "metadata": {},
   "source": [
    "## Regression Analysis"
   ]
  },
  {
   "cell_type": "markdown",
   "id": "09b4dce1",
   "metadata": {},
   "source": [
    "**Creating and Train the Model**"
   ]
  },
  {
   "cell_type": "code",
   "execution_count": 169,
   "id": "b801f7bd",
   "metadata": {},
   "outputs": [],
   "source": [
    "dfn=dfn.dropna()"
   ]
  },
  {
   "cell_type": "code",
   "execution_count": 170,
   "id": "e11dab8a",
   "metadata": {},
   "outputs": [],
   "source": [
    "from sklearn.model_selection import train_test_split"
   ]
  },
  {
   "cell_type": "code",
   "execution_count": 179,
   "id": "7b96ee05",
   "metadata": {},
   "outputs": [],
   "source": [
    "X = dfn.drop(['Total Funding Amount', 'Estimated Revenue Range', 'Number of Founders'], axis = 1)\n",
    "y = dfn['Total Funding Amount']"
   ]
  },
  {
   "cell_type": "code",
   "execution_count": 180,
   "id": "f22dc6b2",
   "metadata": {},
   "outputs": [],
   "source": [
    "X_train, X_test, y_train, y_test = train_test_split(X, y, test_size=0.3)"
   ]
  },
  {
   "cell_type": "code",
   "execution_count": 181,
   "id": "e927d5b6",
   "metadata": {},
   "outputs": [],
   "source": [
    "from sklearn.linear_model import LinearRegression"
   ]
  },
  {
   "cell_type": "code",
   "execution_count": 182,
   "id": "92092cb4",
   "metadata": {},
   "outputs": [],
   "source": [
    "lm = LinearRegression()"
   ]
  },
  {
   "cell_type": "code",
   "execution_count": 183,
   "id": "93053469",
   "metadata": {},
   "outputs": [
    {
     "data": {
      "text/plain": [
       "LinearRegression()"
      ]
     },
     "execution_count": 183,
     "metadata": {},
     "output_type": "execute_result"
    }
   ],
   "source": [
    "lm.fit(X_train, y_train)"
   ]
  },
  {
   "cell_type": "code",
   "execution_count": 184,
   "id": "7d8dda4d",
   "metadata": {},
   "outputs": [
    {
     "name": "stdout",
     "output_type": "stream",
     "text": [
      "-9222371.430312175\n"
     ]
    }
   ],
   "source": [
    "# print the intercept\n",
    "print(lm.intercept_)"
   ]
  },
  {
   "cell_type": "code",
   "execution_count": 185,
   "id": "42829668",
   "metadata": {},
   "outputs": [
    {
     "data": {
      "text/html": [
       "<div>\n",
       "<style scoped>\n",
       "    .dataframe tbody tr th:only-of-type {\n",
       "        vertical-align: middle;\n",
       "    }\n",
       "\n",
       "    .dataframe tbody tr th {\n",
       "        vertical-align: top;\n",
       "    }\n",
       "\n",
       "    .dataframe thead th {\n",
       "        text-align: right;\n",
       "    }\n",
       "</style>\n",
       "<table border=\"1\" class=\"dataframe\">\n",
       "  <thead>\n",
       "    <tr style=\"text-align: right;\">\n",
       "      <th></th>\n",
       "      <th>Coefficient</th>\n",
       "    </tr>\n",
       "  </thead>\n",
       "  <tbody>\n",
       "    <tr>\n",
       "      <th>Last Funding Amount</th>\n",
       "      <td>1.480073e+00</td>\n",
       "    </tr>\n",
       "    <tr>\n",
       "      <th>Number of Funding Rounds</th>\n",
       "      <td>4.202198e+06</td>\n",
       "    </tr>\n",
       "  </tbody>\n",
       "</table>\n",
       "</div>"
      ],
      "text/plain": [
       "                           Coefficient\n",
       "Last Funding Amount       1.480073e+00\n",
       "Number of Funding Rounds  4.202198e+06"
      ]
     },
     "execution_count": 185,
     "metadata": {},
     "output_type": "execute_result"
    }
   ],
   "source": [
    "coeff_df = pd.DataFrame(lm.coef_,X.columns,columns=['Coefficient'])\n",
    "coeff_df"
   ]
  },
  {
   "cell_type": "code",
   "execution_count": 186,
   "id": "30f758a1",
   "metadata": {},
   "outputs": [],
   "source": [
    "predictions = lm.predict(X_test)"
   ]
  },
  {
   "cell_type": "markdown",
   "id": "7397a631",
   "metadata": {},
   "source": [
    "**Predictions from Model**"
   ]
  },
  {
   "cell_type": "code",
   "execution_count": 187,
   "id": "908b6f16",
   "metadata": {
    "scrolled": false
   },
   "outputs": [
    {
     "data": {
      "text/plain": [
       "<matplotlib.collections.PathCollection at 0x196b5468880>"
      ]
     },
     "execution_count": 187,
     "metadata": {},
     "output_type": "execute_result"
    },
    {
     "data": {
      "image/png": "[encoded data removed]",
      "text/plain": [
       "<Figure size 432x288 with 1 Axes>"
      ]
     },
     "metadata": {},
     "output_type": "display_data"
    }
   ],
   "source": [
    "plt.scatter(y_test,predictions)"
   ]
  },
  {
   "cell_type": "markdown",
   "id": "937c81da",
   "metadata": {},
   "source": [
    "**Residual Histogram**"
   ]
  },
  {
   "cell_type": "code",
   "execution_count": 188,
   "id": "481a6e21",
   "metadata": {
    "scrolled": true
   },
   "outputs": [
    {
     "data": {
      "text/plain": [
       "(-100000000.0, 100000000.0)"
      ]
     },
     "execution_count": 188,
     "metadata": {},
     "output_type": "execute_result"
    },
    {
     "data": {
      "image/png": "[encoded data removed]",
      "text/plain": [
       "<Figure size 648x432 with 1 Axes>"
      ]
     },
     "metadata": {},
     "output_type": "display_data"
    }
   ],
   "source": [
    "sns.displot((y_test-predictions),bins=200, height = 6, aspect = 1.5)\n",
    "plt.xlim(-1e+08, 1e+08)"
   ]
  },
  {
   "cell_type": "markdown",
   "id": "34294750",
   "metadata": {},
   "source": [
    "**Regression Evaluation Metrics**"
   ]
  },
  {
   "cell_type": "code",
   "execution_count": 189,
   "id": "01a80a09",
   "metadata": {},
   "outputs": [],
   "source": [
    "from sklearn import metrics\n",
    "from sklearn.metrics import r2_score"
   ]
  },
  {
   "cell_type": "code",
   "execution_count": 190,
   "id": "d5751427",
   "metadata": {},
   "outputs": [
    {
     "name": "stdout",
     "output_type": "stream",
     "text": [
      "R Square: 0.8117875705983106\n",
      "MAE: 8985725.06512324\n",
      "MSE: 734222102513031.2\n",
      "RMSE: 27096533.034929603\n"
     ]
    }
   ],
   "source": [
    "print('R Square:', r2_score(y_test, predictions))\n",
    "print('MAE:', metrics.mean_absolute_error(y_test, predictions))\n",
    "print('MSE:', metrics.mean_squared_error(y_test, predictions))\n",
    "print('RMSE:', np.sqrt(metrics.mean_squared_error(y_test, predictions)))"
   ]
  }
 ],
 "metadata": {
  "kernelspec": {
   "display_name": "Python 3",
   "language": "python",
   "name": "python3"
  },
  "language_info": {
   "codemirror_mode": {
    "name": "ipython",
    "version": 3
   },
   "file_extension": ".py",
   "mimetype": "text/x-python",
   "name": "python",
   "nbconvert_exporter": "python",
   "pygments_lexer": "ipython3",
   "version": "3.8.8"
  }
 },
 "nbformat": 4,
 "nbformat_minor": 5
}
